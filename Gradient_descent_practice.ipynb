{
  "nbformat": 4,
  "nbformat_minor": 0,
  "metadata": {
    "colab": {
      "provenance": [],
      "authorship_tag": "ABX9TyOCMFJevdigFxT/VnQPxeSo",
      "include_colab_link": true
    },
    "kernelspec": {
      "name": "python3",
      "display_name": "Python 3"
    },
    "language_info": {
      "name": "python"
    }
  },
  "cells": [
    {
      "cell_type": "markdown",
      "metadata": {
        "id": "view-in-github",
        "colab_type": "text"
      },
      "source": [
        "<a href=\"https://colab.research.google.com/github/Rajikshank/test/blob/main/Gradient_descent_practice.ipynb\" target=\"_parent\"><img src=\"https://colab.research.google.com/assets/colab-badge.svg\" alt=\"Open In Colab\"/></a>"
      ]
    },
    {
      "cell_type": "code",
      "source": [
        "import numpy as np\n",
        "from sklearn import preprocessing\n"
      ],
      "metadata": {
        "id": "IG6cD964XrBq"
      },
      "execution_count": 3,
      "outputs": []
    },
    {
      "cell_type": "code",
      "source": [
        "X_train = np.array([[2104, 5, 1, 45], [1416, 3, 2, 40], [852, 2, 1, 35]])\n",
        "y_train = np.array([460, 232, 178])"
      ],
      "metadata": {
        "id": "zgFFWT8Jy2Jp"
      },
      "execution_count": 4,
      "outputs": []
    },
    {
      "cell_type": "code",
      "source": [
        "def compute_cost(x,y,w,b):\n",
        "  m=x.shape[0]\n",
        "  cost=0.0\n",
        "\n",
        "  for i in range(m):\n",
        "    fx_w=np.dot(x[i],w)+b\n",
        "    cost=cost + (fx_w-y[i])**2\n",
        "\n",
        "  cost=cost/(2*m)\n",
        "\n",
        "  return cost"
      ],
      "metadata": {
        "id": "UFOYQaGFpQCl"
      },
      "execution_count": 5,
      "outputs": []
    },
    {
      "cell_type": "code",
      "source": [
        "b_init = 785.1811367994083\n",
        "w_init = np.array([ 0.39133535, 18.75376741, -53.36032453, -26.42131618])\n",
        "compute_cost(X_train,y_train,w_init,b_init)"
      ],
      "metadata": {
        "colab": {
          "base_uri": "https://localhost:8080/"
        },
        "id": "zjv-mF8PqjhX",
        "outputId": "bad8c3a1-6cba-4822-c275-874db86295bd"
      },
      "execution_count": 6,
      "outputs": [
        {
          "output_type": "execute_result",
          "data": {
            "text/plain": [
              "1.5578904428966628e-12"
            ]
          },
          "metadata": {},
          "execution_count": 6
        }
      ]
    },
    {
      "cell_type": "code",
      "source": [
        "def compute_gradient(x,y,w,b):\n",
        "  m,n=x.shape\n",
        "\n",
        "  d_jw = np.zeros((n,))\n",
        "  d_jb=0\n",
        "\n",
        "  for i in range(m):\n",
        "    error=(np.dot(x[i],w)+b)-y[i]\n",
        "    for j in range(n):\n",
        "      d_jw[j]=d_jw[j]+error*x[i,j]# here we are going throug every element in the vector and performing vector multiplication\n",
        "    d_jb+=error\n",
        "\n",
        "  d_jw=d_jw/m\n",
        "  d_jb=d_jb/m\n",
        "\n",
        "  return d_jw,d_jb\n"
      ],
      "metadata": {
        "id": "bWaYlZYiwJGY"
      },
      "execution_count": 17,
      "outputs": []
    },
    {
      "cell_type": "code",
      "source": [
        "tmp_dj_db, tmp_dj_dw = compute_gradient(X_train, y_train, w_init, b_init)\n",
        "print(f'dj_db at initial w,b: {tmp_dj_db}')\n",
        "print(f'dj_dw at initial w,b: \\n {tmp_dj_dw}')"
      ],
      "metadata": {
        "colab": {
          "base_uri": "https://localhost:8080/"
        },
        "id": "TbhtWrlpg8-d",
        "outputId": "1b5a2733-c268-43ea-e39b-957af8618ed4"
      },
      "execution_count": 19,
      "outputs": [
        {
          "output_type": "stream",
          "name": "stdout",
          "text": [
            "dj_db at initial w,b: [-2.72623577e-03 -6.27197263e-06 -2.21745578e-06 -6.92403391e-05]\n",
            "dj_dw at initial w,b: \n",
            " -1.6739251501955248e-06\n"
          ]
        }
      ]
    }
  ]
}